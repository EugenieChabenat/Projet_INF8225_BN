{
  "nbformat": 4,
  "nbformat_minor": 0,
  "metadata": {
    "colab": {
      "name": "Untitled1.ipynb",
      "provenance": [],
      "collapsed_sections": [],
      "machine_shape": "hm"
    },
    "kernelspec": {
      "name": "python3",
      "display_name": "Python 3"
    }
  },
  "cells": [
    {
      "cell_type": "code",
      "metadata": {
        "id": "Yi4cOIuV05rV",
        "colab_type": "code",
        "colab": {}
      },
      "source": [
        "import matplotlib.pyplot as plt\n",
        "from matplotlib.pyplot import imshow\n",
        "import sklearn as skt\n",
        "from sklearn.preprocessing import OneHotEncoder #not used yet, learn \n",
        "from sklearn.model_selection import train_test_split\n",
        "from sklearn.metrics import classification_report\n",
        "import numpy as np\n",
        "import keras\n",
        "from keras import layers\n",
        "from keras.layers import Input, Add, Dense, Activation, ZeroPadding2D, BatchNormalization, Flatten, Conv2D, AveragePooling2D, MaxPooling2D, GlobalMaxPooling2D, Dropout\n",
        "from keras.models import Model\n",
        "from keras.initializers import glorot_uniform\n",
        "from keras.utils import layer_utils\n",
        "import keras.backend as K\n",
        "from keras.optimizers import SGD\n",
        "from keras.utils import np_utils\n",
        "K.set_image_data_format('channels_last')\n",
        "from keras.datasets import fashion_mnist\n",
        "from imutils import build_montages # for visualization\n",
        "%matplotlib inline"
      ],
      "execution_count": 0,
      "outputs": []
    },
    {
      "cell_type": "code",
      "metadata": {
        "id": "YrOcQCjL2P79",
        "colab_type": "code",
        "colab": {}
      },
      "source": [
        "def data_loader():\n",
        "  # load data \n",
        "  print(\"[INFO] data loading...\")\n",
        "  fashion_mnist = keras.datasets.fashion_mnist\n",
        "  ((X_train, y_train), (X_test, y_test)) = fashion_mnist.load_data()\n",
        "  _, height, width= X_train.shape\n",
        "  depth = 1 # fashion mnsit is greyscale \n",
        "  #channelDim = -1 \n",
        "  nb_classes = len(np.unique(y_train))\n",
        "  # preprocess data \n",
        "  X_train = X_train.reshape((X_train.shape[0], height, width, depth))\n",
        "  X_test = X_test.reshape((X_test.shape[0], height, width, depth))\n",
        "  \n",
        "  # normalization \n",
        "  X_train = X_train.astype(\"float32\") / 255.0 \n",
        "  X_test = X_test.astype(\"float32\") / 255.0 \n",
        "  \n",
        "  # one hot encoding\n",
        "  y_train = np_utils.to_categorical(y_train, nb_classes)\n",
        "  y_test = np_utils.to_categorical(y_test, nb_classes)\n",
        "\n",
        "  X_train, X_validation, y_train, y_validation = train_test_split(X_train, y_train, test_size = 0.2, random_state=42)\n",
        "  labelNames = [\"top\", \"trousers\", \"pullover\", \"dress\", \"coat\", \"sandal\", \"shirt\", \"sneakers\", \"bag\", \"ankle boot\"]\n",
        "\n",
        "  return\n",
        "\n",
        "def model_keras(input_shape, classes, BN):\n",
        "  X_input = Input(input_shape)\n",
        "  \n",
        "  X = Conv2D(filters = 32, kernel_size = (3, 3), strides = (1,1), padding = 'same', kernel_initializer = glorot_uniform(seed=0))(X_input)\n",
        "  if BN == True:  \n",
        "    X = BatchNormalization(axis = 3)(X)\n",
        "  X = Activation('relu')(X)\n",
        "\n",
        "  X = Conv2D(filters = 48, kernel_size = (3, 3), strides = (1,1), padding = 'valid', kernel_initializer = glorot_uniform(seed=0))(X)\n",
        "  if BN == True:  \n",
        "    X = BatchNormalization(axis = 3)(X)\n",
        "  X = Activation('relu')(X)\n",
        "  X = MaxPooling2D((2, 2), strides=(2, 2))(X)\n",
        "\n",
        "  X = Conv2D(filters = 64, kernel_size = (3, 3), strides = (1,1), padding = 'valid', kernel_initializer = glorot_uniform(seed=0))(X)\n",
        "  if BN == True:  \n",
        "    X = BatchNormalization(axis = 3)(X)\n",
        "  X = Activation('relu')(X)\n",
        "\n",
        "  X = Conv2D(filters = 64, kernel_size = (3, 3), strides = (1,1), padding = 'same', kernel_initializer = glorot_uniform(seed=0))(X)\n",
        "  if BN == True:  \n",
        "    X = BatchNormalization(axis = 3)(X)\n",
        "  X = Activation('relu')(X)\n",
        "  X = MaxPooling2D((2, 2), strides=(2, 2))(X)\n",
        "\n",
        "  X = Flatten()(X)\n",
        "  X = Dense(256, activation='relu', kernel_initializer = glorot_uniform(seed=0), use_bias=False)(X)\n",
        "  if BN == True:  \n",
        "    X = BatchNormalization()(X)\n",
        "  X = Dense(classes, activation='softmax', kernel_initializer = glorot_uniform(seed=0))(X)\n",
        "\n",
        "  model = Model(inputs = X_input, outputs = X)\n",
        "\n",
        "  return model\n",
        "\n",
        "def train_model(optimizer,BN,base):\n",
        "  print(\"[INFO] compiling model...\")\n",
        "  if BN == True:\n",
        "    model_BN = model_keras(input_shape=(28, 28, 1), classes=10, BN=True)\n",
        "    model_BN.summary()\n",
        "    model_BN.compile(loss=\"categorical_crossentropy\", optimizer=optimizer, metrics=[\"accuracy\"])\n",
        "    print(\"[INFO] training model...\")\n",
        "    trained_model_BN = model_BN.fit(X_train, y_train, validation_data=(X_validation, y_validation), batch_size= mini_batch_size, epochs=nb_epochs)\n",
        "  if base == True:\n",
        "    model_base = model_keras(input_shape=(28, 28, 1), classes=10, BN=False)\n",
        "    model_base.summary()\n",
        "    model_base.compile(loss=\"categorical_crossentropy\", optimizer=optimizer, metrics=[\"accuracy\"])\n",
        "    print(\"[INFO] training model...\")\n",
        "    trained_model_base = model_base.fit(X_train, y_train, validation_data=(X_validation, y_validation), batch_size= mini_batch_size, epochs=nb_epochs)\n",
        "  return"
      ],
      "execution_count": 0,
      "outputs": []
    },
    {
      "cell_type": "code",
      "metadata": {
        "id": "7VDbQyzr_yRG",
        "colab_type": "code",
        "outputId": "a6ec2ecb-e7fb-4901-ee28-af5489502f5b",
        "colab": {
          "base_uri": "https://localhost:8080/",
          "height": 2193
        }
      },
      "source": [
        "optimizer='adam'\n",
        "\n",
        "#optimizer = SGD(learning_rate=0.1, momentum = 0.9, decay = 1/np.exp(10))\n",
        "\n",
        "mini_batch_size = 256            # change, small to begin \n",
        "nb_epochs = 10                   # change, small to begin \n",
        "\n",
        "data_loader()\n",
        "base = True\n",
        "BN = True\n",
        "\n",
        "train_model(optimizer,BN,base)\n",
        "\n",
        "#models.save_model(model, filepath, overwrite=True, include_optimizer=True, save_format=None, signatures=None, options=None)\n",
        "#models.save_model(model, filepath, overwrite=True, include_optimizer=True, save_format=None, signatures=None, options=None)"
      ],
      "execution_count": 207,
      "outputs": [
        {
          "output_type": "stream",
          "text": [
            "[INFO] data loading...\n",
            "[INFO] compiling model...\n",
            "Model: \"model_48\"\n",
            "_________________________________________________________________\n",
            "Layer (type)                 Output Shape              Param #   \n",
            "=================================================================\n",
            "input_50 (InputLayer)        (None, 28, 28, 1)         0         \n",
            "_________________________________________________________________\n",
            "conv2d_197 (Conv2D)          (None, 28, 28, 32)        320       \n",
            "_________________________________________________________________\n",
            "batch_normalization_134 (Bat (None, 28, 28, 32)        128       \n",
            "_________________________________________________________________\n",
            "activation_213 (Activation)  (None, 28, 28, 32)        0         \n",
            "_________________________________________________________________\n",
            "conv2d_198 (Conv2D)          (None, 26, 26, 48)        13872     \n",
            "_________________________________________________________________\n",
            "batch_normalization_135 (Bat (None, 26, 26, 48)        192       \n",
            "_________________________________________________________________\n",
            "activation_214 (Activation)  (None, 26, 26, 48)        0         \n",
            "_________________________________________________________________\n",
            "max_pooling2d_99 (MaxPooling (None, 13, 13, 48)        0         \n",
            "_________________________________________________________________\n",
            "conv2d_199 (Conv2D)          (None, 11, 11, 64)        27712     \n",
            "_________________________________________________________________\n",
            "batch_normalization_136 (Bat (None, 11, 11, 64)        256       \n",
            "_________________________________________________________________\n",
            "activation_215 (Activation)  (None, 11, 11, 64)        0         \n",
            "_________________________________________________________________\n",
            "conv2d_200 (Conv2D)          (None, 11, 11, 64)        36928     \n",
            "_________________________________________________________________\n",
            "batch_normalization_137 (Bat (None, 11, 11, 64)        256       \n",
            "_________________________________________________________________\n",
            "activation_216 (Activation)  (None, 11, 11, 64)        0         \n",
            "_________________________________________________________________\n",
            "max_pooling2d_100 (MaxPoolin (None, 5, 5, 64)          0         \n",
            "_________________________________________________________________\n",
            "flatten_50 (Flatten)         (None, 1600)              0         \n",
            "_________________________________________________________________\n",
            "dense_97 (Dense)             (None, 256)               409600    \n",
            "_________________________________________________________________\n",
            "batch_normalization_138 (Bat (None, 256)               1024      \n",
            "_________________________________________________________________\n",
            "dense_98 (Dense)             (None, 10)                2570      \n",
            "=================================================================\n",
            "Total params: 492,858\n",
            "Trainable params: 491,930\n",
            "Non-trainable params: 928\n",
            "_________________________________________________________________\n",
            "[INFO] training model...\n",
            "Train on 48000 samples, validate on 12000 samples\n",
            "Epoch 1/10\n",
            "48000/48000 [==============================] - 109s 2ms/step - loss: 0.4027 - accuracy: 0.8553 - val_loss: 0.2818 - val_accuracy: 0.8972\n",
            "Epoch 2/10\n",
            "48000/48000 [==============================] - 109s 2ms/step - loss: 0.2512 - accuracy: 0.9090 - val_loss: 0.2594 - val_accuracy: 0.9054\n",
            "Epoch 3/10\n",
            "48000/48000 [==============================] - 109s 2ms/step - loss: 0.2081 - accuracy: 0.9247 - val_loss: 0.2495 - val_accuracy: 0.9103\n",
            "Epoch 4/10\n",
            "48000/48000 [==============================] - 109s 2ms/step - loss: 0.1750 - accuracy: 0.9363 - val_loss: 0.2454 - val_accuracy: 0.9122\n",
            "Epoch 5/10\n",
            "48000/48000 [==============================] - 108s 2ms/step - loss: 0.1546 - accuracy: 0.9442 - val_loss: 0.2421 - val_accuracy: 0.9154\n",
            "Epoch 6/10\n",
            "48000/48000 [==============================] - 108s 2ms/step - loss: 0.1313 - accuracy: 0.9528 - val_loss: 0.2452 - val_accuracy: 0.9157\n",
            "Epoch 7/10\n",
            "48000/48000 [==============================] - 109s 2ms/step - loss: 0.1139 - accuracy: 0.9588 - val_loss: 0.2720 - val_accuracy: 0.9090\n",
            "Epoch 8/10\n",
            "48000/48000 [==============================] - 109s 2ms/step - loss: 0.1018 - accuracy: 0.9634 - val_loss: 0.2549 - val_accuracy: 0.9180\n",
            "Epoch 9/10\n",
            "48000/48000 [==============================] - 109s 2ms/step - loss: 0.0831 - accuracy: 0.9700 - val_loss: 0.2806 - val_accuracy: 0.9136\n",
            "Epoch 10/10\n",
            "48000/48000 [==============================] - 109s 2ms/step - loss: 0.0754 - accuracy: 0.9731 - val_loss: 0.2963 - val_accuracy: 0.9169\n",
            "Model: \"model_49\"\n",
            "_________________________________________________________________\n",
            "Layer (type)                 Output Shape              Param #   \n",
            "=================================================================\n",
            "input_51 (InputLayer)        (None, 28, 28, 1)         0         \n",
            "_________________________________________________________________\n",
            "conv2d_201 (Conv2D)          (None, 28, 28, 32)        320       \n",
            "_________________________________________________________________\n",
            "activation_217 (Activation)  (None, 28, 28, 32)        0         \n",
            "_________________________________________________________________\n",
            "conv2d_202 (Conv2D)          (None, 26, 26, 48)        13872     \n",
            "_________________________________________________________________\n",
            "activation_218 (Activation)  (None, 26, 26, 48)        0         \n",
            "_________________________________________________________________\n",
            "max_pooling2d_101 (MaxPoolin (None, 13, 13, 48)        0         \n",
            "_________________________________________________________________\n",
            "conv2d_203 (Conv2D)          (None, 11, 11, 64)        27712     \n",
            "_________________________________________________________________\n",
            "activation_219 (Activation)  (None, 11, 11, 64)        0         \n",
            "_________________________________________________________________\n",
            "conv2d_204 (Conv2D)          (None, 11, 11, 64)        36928     \n",
            "_________________________________________________________________\n",
            "activation_220 (Activation)  (None, 11, 11, 64)        0         \n",
            "_________________________________________________________________\n",
            "max_pooling2d_102 (MaxPoolin (None, 5, 5, 64)          0         \n",
            "_________________________________________________________________\n",
            "flatten_51 (Flatten)         (None, 1600)              0         \n",
            "_________________________________________________________________\n",
            "dense_99 (Dense)             (None, 256)               409600    \n",
            "_________________________________________________________________\n",
            "dense_100 (Dense)            (None, 10)                2570      \n",
            "=================================================================\n",
            "Total params: 491,002\n",
            "Trainable params: 491,002\n",
            "Non-trainable params: 0\n",
            "_________________________________________________________________\n",
            "[INFO] training model...\n",
            "Train on 48000 samples, validate on 12000 samples\n",
            "Epoch 1/10\n",
            "48000/48000 [==============================] - 83s 2ms/step - loss: 0.6133 - accuracy: 0.7750 - val_loss: 0.3867 - val_accuracy: 0.8592\n",
            "Epoch 2/10\n",
            "48000/48000 [==============================] - 82s 2ms/step - loss: 0.3498 - accuracy: 0.8736 - val_loss: 0.3286 - val_accuracy: 0.8767\n",
            "Epoch 3/10\n",
            "48000/48000 [==============================] - 83s 2ms/step - loss: 0.2897 - accuracy: 0.8944 - val_loss: 0.2947 - val_accuracy: 0.8906\n",
            "Epoch 4/10\n",
            "48000/48000 [==============================] - 81s 2ms/step - loss: 0.2467 - accuracy: 0.9101 - val_loss: 0.2754 - val_accuracy: 0.9007\n",
            "Epoch 5/10\n",
            "48000/48000 [==============================] - 81s 2ms/step - loss: 0.2255 - accuracy: 0.9172 - val_loss: 0.2533 - val_accuracy: 0.9093\n",
            "Epoch 6/10\n",
            "48000/48000 [==============================] - 81s 2ms/step - loss: 0.2010 - accuracy: 0.9256 - val_loss: 0.2316 - val_accuracy: 0.9177\n",
            "Epoch 7/10\n",
            "48000/48000 [==============================] - 81s 2ms/step - loss: 0.1860 - accuracy: 0.9317 - val_loss: 0.2438 - val_accuracy: 0.9115\n",
            "Epoch 8/10\n",
            "48000/48000 [==============================] - 81s 2ms/step - loss: 0.1661 - accuracy: 0.9385 - val_loss: 0.2285 - val_accuracy: 0.9173\n",
            "Epoch 9/10\n",
            "48000/48000 [==============================] - 81s 2ms/step - loss: 0.1524 - accuracy: 0.9435 - val_loss: 0.2365 - val_accuracy: 0.9151\n",
            "Epoch 10/10\n",
            "48000/48000 [==============================] - 81s 2ms/step - loss: 0.1331 - accuracy: 0.9514 - val_loss: 0.2312 - val_accuracy: 0.9190\n"
          ],
          "name": "stdout"
        }
      ]
    },
    {
      "cell_type": "code",
      "metadata": {
        "id": "--pXtB39AWhW",
        "colab_type": "code",
        "outputId": "52d8f5a5-3644-4f39-a895-bd574e481a9f",
        "colab": {
          "base_uri": "https://localhost:8080/",
          "height": 703
        }
      },
      "source": [
        "print(\"Base model\")\n",
        "preds = model_base.evaluate(X_test, y_test)\n",
        "print (\"Loss = \" + str(preds[0]))\n",
        "print (\"Test Accuracy = \" + str(preds[1]))\n",
        " \n",
        "# make predictions on the test set \n",
        "predictions_base = model_base.predict(X_test)\n",
        "\n",
        "# classification report\n",
        "print(\"[INFO] evaluating network...\")\n",
        "print(\"Base model\")\n",
        "print(classification_report(y_test.argmax(axis=1), predictions_base.argmax(axis=1), target_names = labelNames))\n",
        "\n",
        "# ploting results\n",
        "plt.figure()\n",
        "#Base\n",
        "plt.plot(np.arange(0, len(trained_model_base.history[\"loss\"])), trained_model_base.history[\"loss\"], label=\"train_loss_Base\")\n",
        "plt.plot(np.arange(0, len(trained_model_base.history[\"val_loss\"])), trained_model_base.history[\"val_loss\"], label=\"val_loss_Base\")\n",
        "plt.plot(np.arange(0, len(trained_model_base.history[\"accuracy\"])), trained_model_base.history[\"accuracy\"], label=\"train_acc_Base\")\n",
        "plt.plot(np.arange(0, len(trained_model_base.history[\"val_accuracy\"])), trained_model_base.history[\"val_accuracy\"], label=\"val_acc_Base\")\n",
        "plt.title(\"Training Loss and accurracy on Dataset : Fshion MNIST\")\n",
        "plt.xlabel(\"Nb of Epoch\")\n",
        "plt.ylabel(\"Loss & accuracy\")\n",
        "plt.legend(loc=\"lower left\")\n",
        "\n"
      ],
      "execution_count": 225,
      "outputs": [
        {
          "output_type": "stream",
          "text": [
            "Base model\n",
            "10000/10000 [==============================] - 6s 592us/step\n",
            "Loss = 0.243783204382658\n",
            "Test Accuracy = 0.9133999943733215\n",
            "[INFO] evaluating network...\n",
            "Base model\n",
            "              precision    recall  f1-score   support\n",
            "\n",
            "         top       0.88      0.84      0.86      1000\n",
            "    trousers       1.00      0.98      0.99      1000\n",
            "    pullover       0.84      0.89      0.87      1000\n",
            "       dress       0.89      0.92      0.91      1000\n",
            "        coat       0.85      0.85      0.85      1000\n",
            "      sandal       0.98      0.98      0.98      1000\n",
            "       shirt       0.77      0.74      0.76      1000\n",
            "    sneakers       0.96      0.97      0.97      1000\n",
            "         bag       0.98      0.98      0.98      1000\n",
            "  ankle boot       0.98      0.97      0.97      1000\n",
            "\n",
            "    accuracy                           0.91     10000\n",
            "   macro avg       0.91      0.91      0.91     10000\n",
            "weighted avg       0.91      0.91      0.91     10000\n",
            "\n"
          ],
          "name": "stdout"
        },
        {
          "output_type": "execute_result",
          "data": {
            "text/plain": [
              "<matplotlib.legend.Legend at 0x7f5463d90978>"
            ]
          },
          "metadata": {
            "tags": []
          },
          "execution_count": 225
        },
        {
          "output_type": "display_data",
          "data": {
            "image/png": "[encoded data removed]",
            "text/plain": [
              "<Figure size 432x288 with 1 Axes>"
            ]
          },
          "metadata": {
            "tags": [],
            "needs_background": "light"
          }
        }
      ]
    },
    {
      "cell_type": "code",
      "metadata": {
        "id": "QO60wyWvPAdi",
        "colab_type": "code",
        "colab": {
          "base_uri": "https://localhost:8080/",
          "height": 703
        },
        "outputId": "5a6634a1-9125-41df-8af9-805da0e07e75"
      },
      "source": [
        "\n",
        "#BN\n",
        "print(\"BN model\")\n",
        "preds = model_BN.evaluate(X_test, y_test)\n",
        "print (\"Loss = \" + str(preds[0]))\n",
        "print (\"Test Accuracy = \" + str(preds[1]))\n",
        " \n",
        "predictions_BN = model_BN.predict(X_test)\n",
        "print(\"[INFO] evaluating network...\")\n",
        "print(\"BN model\")\n",
        "print(classification_report(y_test.argmax(axis=1), predictions_BN.argmax(axis=1), target_names = labelNames))\n",
        "plt.figure()\n",
        "plt.plot(np.arange(0, len(trained_model_BN.history[\"loss\"])), trained_model_BN.history[\"loss\"], label=\"train_loss_BN\")\n",
        "plt.plot(np.arange(0, len(trained_model_BN.history[\"val_loss\"])), trained_model_BN.history[\"val_loss\"], label=\"val_loss_BN\")\n",
        "plt.plot(np.arange(0, len(trained_model_BN.history[\"accuracy\"])), trained_model_BN.history[\"accuracy\"], label=\"train_acc_BN\")\n",
        "plt.plot(np.arange(0, len(trained_model_BN.history[\"val_accuracy\"])), trained_model_BN.history[\"val_accuracy\"], label=\"val_acc_BN\")\n",
        "\n",
        "plt.title(\"Training Loss and accurracy on Dataset : Fshion MNIST\")\n",
        "plt.xlabel(\"Nb of Epoch\")\n",
        "plt.ylabel(\"Loss & accuracy\")\n",
        "plt.legend(loc=\"lower left\")"
      ],
      "execution_count": 223,
      "outputs": [
        {
          "output_type": "stream",
          "text": [
            "BN model\n",
            "10000/10000 [==============================] - 8s 835us/step\n",
            "Loss = 0.27714633579850195\n",
            "Test Accuracy = 0.9041000008583069\n",
            "[INFO] evaluating network...\n",
            "BN model\n",
            "              precision    recall  f1-score   support\n",
            "\n",
            "         top       0.85      0.88      0.87      1000\n",
            "    trousers       0.99      0.98      0.99      1000\n",
            "    pullover       0.86      0.87      0.87      1000\n",
            "       dress       0.94      0.89      0.91      1000\n",
            "        coat       0.74      0.96      0.83      1000\n",
            "      sandal       0.97      1.00      0.98      1000\n",
            "       shirt       0.84      0.57      0.68      1000\n",
            "    sneakers       0.98      0.92      0.95      1000\n",
            "         bag       0.96      0.99      0.97      1000\n",
            "  ankle boot       0.94      0.98      0.96      1000\n",
            "\n",
            "    accuracy                           0.90     10000\n",
            "   macro avg       0.91      0.90      0.90     10000\n",
            "weighted avg       0.91      0.90      0.90     10000\n",
            "\n"
          ],
          "name": "stdout"
        },
        {
          "output_type": "execute_result",
          "data": {
            "text/plain": [
              "<matplotlib.legend.Legend at 0x7f5463dfa6d8>"
            ]
          },
          "metadata": {
            "tags": []
          },
          "execution_count": 223
        },
        {
          "output_type": "display_data",
          "data": {
            "image/png": "[encoded data removed]",
            "text/plain": [
              "<Figure size 432x288 with 1 Axes>"
            ]
          },
          "metadata": {
            "tags": [],
            "needs_background": "light"
          }
        }
      ]
    },
    {
      "cell_type": "code",
      "metadata": {
        "id": "7qEDFJEZLtUP",
        "colab_type": "code",
        "colab": {
          "base_uri": "https://localhost:8080/",
          "height": 34
        },
        "outputId": "c346c656-e96a-4798-9f49-e6648abca381"
      },
      "source": [
        "print (len(trained_model_BN.history[\"loss\"]))\n"
      ],
      "execution_count": 222,
      "outputs": [
        {
          "output_type": "stream",
          "text": [
            "5\n"
          ],
          "name": "stdout"
        }
      ]
    },
    {
      "cell_type": "code",
      "metadata": {
        "id": "18ayJpHIN9Y4",
        "colab_type": "code",
        "colab": {}
      },
      "source": [
        ""
      ],
      "execution_count": 0,
      "outputs": []
    }
  ]
}